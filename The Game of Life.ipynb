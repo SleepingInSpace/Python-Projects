{
 "cells": [
  {
   "cell_type": "code",
   "execution_count": 53,
   "id": "8a4e84da",
   "metadata": {},
   "outputs": [
    {
     "name": "stdout",
     "output_type": "stream",
     "text": [
      "\n",
      "tick:10\n",
      " [[0 0 0 0 0 0 0]\n",
      " [0 0 0 1 0 0 0]\n",
      " [0 0 0 1 0 0 0]\n",
      " [0 0 1 0 1 0 0]\n",
      " [0 0 0 1 0 0 0]\n",
      " [0 0 0 0 0 0 0]]\n"
     ]
    }
   ],
   "source": [
    "     # Rules\n",
    "# any live cell with less than 2 live neighbours dies \n",
    "# any live cell with more than 3 live neighbours dies\n",
    "# any live cell with more than 2 or 3 live neighbours lives\n",
    "# any dead cell with exactly 3 live neighbours becomes live \n",
    "import numpy as np\n",
    "# Starting Array\n",
    "Z=np.array([[0,0,0,0,0,0,0],\n",
    "           [0,1,1,0,1,1,0],\n",
    "           [1,0,0,1,0,0,1],\n",
    "           [0,1,0,0,0,1,0],\n",
    "           [0,0,1,0,1,0,0],\n",
    "           [0,0,0,1,0,0,0]])\n",
    "#r=np.random.default_rng()            \n",
    "#Z=np.floor(2*r.random((Z.shape)))            \n",
    "#print(Z)\n",
    "N=np.zeros(Z.shape,dtype=int)\n",
    "def iterate_1(Z):\n",
    "    # Counting neighbours\n",
    "    N = (Z[0:-2,0:-2] + Z[0:-2,1:-1] + Z[0:-2,2:] +\n",
    "         Z[1:-1,0:-2]                + Z[1:-1,2:] +\n",
    "         Z[2:  ,0:-2] + Z[2:  ,1:-1] + Z[2:  ,2:])\n",
    "    #print(N[:,:])\n",
    "    # Applying rules \n",
    "    birth = (N==3) & (Z[1:-1,1:-1]==0)\n",
    "    survive = ((N==2) | (N==3)) & (Z[1:-1,1:-1]==1)\n",
    "    Z[...] = 0\n",
    "    Z[1:-1,1:-1][birth | survive] = 1\n",
    "    return Z\n",
    "#print(Z)\n",
    "print()\n",
    "a=10\n",
    "for i in range(a): iterate_1(Z)\n",
    "print('tick:%d\\n'%a, Z)"
   ]
  },
  {
   "cell_type": "code",
   "execution_count": 52,
   "id": "25997545",
   "metadata": {},
   "outputs": [],
   "source": [
    "import numpy as np\n",
    "# starting array\n",
    "A=np.array([[0,0,0,0,0,0],\n",
    "           [0,0,0,0,0,0],\n",
    "           [0,0,0,0,0,0],\n",
    "           [0,0,0,0,0,0],\n",
    "           [0,0,0,0,0,0],\n",
    "           [0,0,0,0,0,0]])\n",
    "B=np.zeros(A.shape,dtype=int)\n",
    "\n",
    "def iterate_1(A):\n",
    "    #counting neighbours\n",
    "    B=(A[ :-2, :-2]+A[ :-2,1:-1]+A[ :-2,2: ]+\n",
    "       A[1:-1, :-2]             +A[1:-1,2: ]+\n",
    "       A[2: , :-2]+A[2: ,1:-1]+A[2: ,2: ] )\n",
    "    print(B[:,:])\n",
    "    \n",
    "    #applying rules\n",
    "    "
   ]
  }
 ],
 "metadata": {
  "kernelspec": {
   "display_name": "Python 3 (ipykernel)",
   "language": "python",
   "name": "python3"
  },
  "language_info": {
   "codemirror_mode": {
    "name": "ipython",
    "version": 3
   },
   "file_extension": ".py",
   "mimetype": "text/x-python",
   "name": "python",
   "nbconvert_exporter": "python",
   "pygments_lexer": "ipython3",
   "version": "3.10.7"
  }
 },
 "nbformat": 4,
 "nbformat_minor": 5
}
